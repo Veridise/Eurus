{
 "cells": [
  {
   "cell_type": "code",
   "execution_count": 1,
   "id": "6ac3cfaf-e3af-4992-aa91-7b98b8909393",
   "metadata": {},
   "outputs": [],
   "source": [
    "import re"
   ]
  },
  {
   "cell_type": "code",
   "execution_count": 9,
   "id": "69fc0e22-8c98-4e0c-b40a-779987c28aa9",
   "metadata": {},
   "outputs": [],
   "source": [
    "with open(\"./examples/interface-test/Client.yul\", \"r\") as f:\n",
    "    dt = f.read()"
   ]
  },
  {
   "cell_type": "code",
   "execution_count": 44,
   "id": "3fea6f37-a0ad-4aac-8a30-1b4b092427be",
   "metadata": {},
   "outputs": [],
   "source": [
    "pattern0 = re.compile(r\"let programSize := datasize\\(\\\"(.*)\\\"\\)[ \\n]*let argSize := sub\\(codesize\\(\\), programSize\\)[ \\n]*let memoryDataOffset := allocate_memory\\(argSize\\)[ \\n]*codecopy\\(memoryDataOffset, programSize, argSize\\)\", re.MULTILINE)"
   ]
  },
  {
   "cell_type": "code",
   "execution_count": 46,
   "id": "10a6f1bb-a778-47b1-bbc0-37d0baee9a79",
   "metadata": {},
   "outputs": [],
   "source": [
    "pattern1 = re.compile(r\"let (.*) := (.*)\", re.MULTILINE)"
   ]
  },
  {
   "cell_type": "code",
   "execution_count": 40,
   "id": "c13b29ae-e032-42c8-b061-05a3996f77db",
   "metadata": {},
   "outputs": [
    {
     "name": "stdout",
     "output_type": "stream",
     "text": [
      "()\n"
     ]
    }
   ],
   "source": [
    "for match in pattern0.finditer(dt):\n",
    "    print(match.groups())"
   ]
  },
  {
   "cell_type": "code",
   "execution_count": 41,
   "id": "68a861a6-72d6-4d57-9979-e7a46c0da3d8",
   "metadata": {},
   "outputs": [
    {
     "data": {
      "text/plain": [
       "['let programSize := datasize(\"Client_42\")\\n            let argSize := sub(codesize(), programSize)\\n\\n            let memoryDataOffset := allocate_memory(argSize)\\n            codecopy(memoryDataOffset, programSize, argSize)']"
      ]
     },
     "execution_count": 41,
     "metadata": {},
     "output_type": "execute_result"
    }
   ],
   "source": [
    "pattern0.findall(dt)"
   ]
  },
  {
   "cell_type": "code",
   "execution_count": 45,
   "id": "b6901e93-5d40-4803-8e6a-54d281e69773",
   "metadata": {},
   "outputs": [
    {
     "data": {
      "text/plain": [
       "('Client_42',)"
      ]
     },
     "execution_count": 45,
     "metadata": {},
     "output_type": "execute_result"
    }
   ],
   "source": [
    "pattern0.search(dt).groups()"
   ]
  },
  {
   "cell_type": "code",
   "execution_count": 47,
   "id": "954a64cd-a0bb-408d-b4c4-68532c61ac19",
   "metadata": {},
   "outputs": [
    {
     "data": {
      "text/plain": [
       "('_1', 'copy_arguments_for_constructor_23_object_Client_42()')"
      ]
     },
     "execution_count": 47,
     "metadata": {},
     "output_type": "execute_result"
    }
   ],
   "source": [
    "pattern1.search(dt).groups()"
   ]
  },
  {
   "cell_type": "code",
   "execution_count": 51,
   "id": "f920fe86-b6c4-43f0-9026-0e5ba673767d",
   "metadata": {},
   "outputs": [
    {
     "data": {
      "text/plain": [
       "('_1', 'copy_arguments_for_constructor_23_object_Client_42()')"
      ]
     },
     "execution_count": 51,
     "metadata": {},
     "output_type": "execute_result"
    }
   ],
   "source": [
    "pattern1.findall(dt)[0]"
   ]
  },
  {
   "cell_type": "code",
   "execution_count": null,
   "id": "c78f91e8-6e11-4698-a68d-d8d29defa32d",
   "metadata": {},
   "outputs": [],
   "source": []
  },
  {
   "cell_type": "code",
   "execution_count": 57,
   "id": "90b38cc6-59bd-4216-90ee-de2e4d6a93d3",
   "metadata": {},
   "outputs": [],
   "source": [
    "pattern2 = re.compile(r\"a[ ]*pple:(.*)\")"
   ]
  },
  {
   "cell_type": "code",
   "execution_count": 58,
   "id": "86ebbcc0-6e3c-49b2-89db-5650ce716e76",
   "metadata": {},
   "outputs": [
    {
     "data": {
      "text/plain": [
       "'b[ ]*anana:zoo'"
      ]
     },
     "execution_count": 58,
     "metadata": {},
     "output_type": "execute_result"
    }
   ],
   "source": [
    "pattern2.sub(r\"b[ ]*anana:\\1\", \"a  pple:zoo\")"
   ]
  },
  {
   "cell_type": "code",
   "execution_count": 59,
   "id": "f3a280f9-b4fd-41b9-9807-aff2e500e8e4",
   "metadata": {},
   "outputs": [
    {
     "data": {
      "text/plain": [
       "b'AB'"
      ]
     },
     "execution_count": 59,
     "metadata": {},
     "output_type": "execute_result"
    }
   ],
   "source": [
    "str.encode(\"AB\")"
   ]
  },
  {
   "cell_type": "code",
   "execution_count": 60,
   "id": "d64d8f3b-eef2-4bca-8716-5447e4a64497",
   "metadata": {},
   "outputs": [
    {
     "data": {
      "text/plain": [
       "b'AB\\x00'"
      ]
     },
     "execution_count": 60,
     "metadata": {},
     "output_type": "execute_result"
    }
   ],
   "source": [
    "str.encode(\"AB\\0\")"
   ]
  },
  {
   "cell_type": "code",
   "execution_count": null,
   "id": "b529b6a7-9d11-4892-afad-a0004b0dfef1",
   "metadata": {},
   "outputs": [],
   "source": []
  }
 ],
 "metadata": {
  "kernelspec": {
   "display_name": "base",
   "language": "python",
   "name": "base"
  },
  "language_info": {
   "codemirror_mode": {
    "name": "ipython",
    "version": 3
   },
   "file_extension": ".py",
   "mimetype": "text/x-python",
   "name": "python",
   "nbconvert_exporter": "python",
   "pygments_lexer": "ipython3",
   "version": "3.8.8"
  }
 },
 "nbformat": 4,
 "nbformat_minor": 5
}
